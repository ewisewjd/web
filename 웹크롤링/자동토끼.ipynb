{
 "cells": [
  {
   "cell_type": "code",
   "execution_count": 3,
   "id": "fe3900a2",
   "metadata": {},
   "outputs": [],
   "source": [
    "from selenium import webdriver as wb\n",
    "from selenium.webdriver.common.by import By\n",
    "import requests as req\n",
    "from bs4 import BeautifulSoup as bs\n",
    "import time"
   ]
  },
  {
   "cell_type": "markdown",
   "id": "e171eda5",
   "metadata": {},
   "source": [
    "## chrome 실행"
   ]
  },
  {
   "cell_type": "code",
   "execution_count": 5,
   "id": "9c337e12",
   "metadata": {},
   "outputs": [],
   "source": [
    "url = \"https://accounts.elice.io/accounts/signin/history?continue_to=https%3A%2F%2Fgwangju-ai.elice.io%2F&lang=ko&org=gwangju-ai\"\n",
    "\n",
    "driver = wb.Chrome()\n",
    "driver.get(url)\n",
    "\n",
    "## 로그인 필요."
   ]
  },
  {
   "cell_type": "markdown",
   "id": "2c83c193",
   "metadata": {},
   "source": [
    "## 로그인은 직접 로그인"
   ]
  },
  {
   "cell_type": "code",
   "execution_count": null,
   "id": "2b865a5a",
   "metadata": {},
   "outputs": [],
   "source": [
    "# 듣고자 하는 강의 들어가기(아래 target_url입력후 아래 코드를 실행시켜도 되고, 직접 들어가서 아래 코드 생략 가능)\n",
    "target_url = \"https://gwangju-ai.elice.io/courses/23692/lectures/all\"\n",
    "driver.get(target_url)"
   ]
  },
  {
   "cell_type": "markdown",
   "id": "8291cba8",
   "metadata": {},
   "source": [
    "## 해당사이트로 이동하여 실행시키는게 더 간편할 듯!!!\n",
    "- url양식 = https://gwangju-ai.elice.io/courses/23692/lectures/all"
   ]
  },
  {
   "cell_type": "markdown",
   "id": "12d1e202",
   "metadata": {},
   "source": [
    "# 들어야할 강의 목록(위 url 양식 참조)으로 이동 후 아래코드 실행!!\n",
    "## 주의사항 \n",
    "- 처음 학습시 [첫 번째 자료부터 학습을 시작해볼까요?]가 뜨는데 첫 번째 강의를 수동으로 들어주어야 아래 코드가 정상 실행됨!!"
   ]
  },
  {
   "cell_type": "code",
   "execution_count": null,
   "id": "53f867b9",
   "metadata": {},
   "outputs": [
    {
     "name": "stdout",
     "output_type": "stream",
     "text": [
      "--01 머신러닝을 위한 수학 툴 익히기 시작!!--\n",
      "[이론1] 머신러닝이란? 완료!! 1/9\n",
      "[이론2] 머신러닝을 위한 수학이 필요한 이유? 완료!! 2/9\n",
      "[이론3] Python 데이터 처리 완료!! 3/9\n",
      "[이론4] NumPy 사용하기 완료!! 4/9\n",
      "[이론5] pandas 사용하기 완료!! 5/9\n",
      "[이론6] Matplotlib 사용하기 완료!! 6/9\n",
      "--01 머신러닝을 위한 수학 툴 익히기 종료!!--\n",
      "--02 기초 선형대수학 시작!!--\n",
      "[이론1] 벡터의 정의와 의미 완료!! 1/7\n",
      "[이론2] 벡터 연산, 단위 벡터, 직교성 완료!! 2/7\n",
      "[이론3] 행렬의 정의와 의미 완료!! 3/7\n",
      "[이론4] 행렬 연산과 역행렬 완료!! 4/7\n",
      "--02 기초 선형대수학 종료!!--\n",
      "--03 미분법 시작!!--\n",
      "[이론1] 함수의 극한 완료!! 1/7\n",
      "[이론2] 미분과 도함수 완료!! 2/7\n"
     ]
    }
   ],
   "source": [
    "# 해당 사이트의 url 리스트 추가\n",
    "select_url = driver.find_elements(By.CLASS_NAME, \"eb-course-lecture-card__pointer\")\n",
    "url_list=[]\n",
    "for url in select_url:\n",
    "    url_list.append(url.get_attribute(\"href\"))\n",
    "\n",
    "# chapter 이동\n",
    "for url in url_list:\n",
    "    driver.get(url)\n",
    "    time.sleep(5)\n",
    "    header = driver.find_elements(By.CLASS_NAME,\"eb-course-lecture-header__title\")\n",
    "    header = header[0].text\n",
    "    print (f\"--{header} 시작!!--\")\n",
    "    \n",
    "    \n",
    "    ## 초기 길이 설정\n",
    "    grade_e = driver.find_elements(By.CLASS_NAME, \"eb-course-lecture-page\")\n",
    "    video_e = driver.find_elements(By.CLASS_NAME, \"eb-course-lecture-page__title-icon\")\n",
    "    total_len = len(grade_e)\n",
    "    \n",
    "    ## total 학습 \n",
    "    total = (driver.find_element(By.CLASS_NAME, \"eb-text--role-primary\")).text\n",
    "    total = total.split(\"/\")[1]\n",
    "    cnt = 0\n",
    "    \n",
    "    ## 동영상 반복 실행\n",
    "    for i in range(total_len):\n",
    "        grade = driver.find_elements(By.CLASS_NAME, \"eb-course-lecture-page\")\n",
    "        video = driver.find_elements(By.CLASS_NAME, \"eb-course-lecture-page__title-icon\")\n",
    "        title = driver.find_elements(By.CLASS_NAME,\"eb-course-lecture-page__title\")\n",
    "        try:\n",
    "            grade[i].find_element(By.CLASS_NAME, \"eb-badge--role-dark\").text\n",
    "        except:\n",
    "            try:\n",
    "                if video[i].find_element(By.CLASS_NAME, \"icon-video\") is not None:\n",
    "                    title = title[i].text\n",
    "                    video[i].click()\n",
    "                    \n",
    "                    # time.sleep(강의 시청 시간 조절!!!!!!!)\n",
    "                    time.sleep(40)\n",
    "                    \n",
    "                    driver.back()\n",
    "                    cnt +=1\n",
    "                    print (f\"{title} 완료!! {cnt}/{total}\")\n",
    "                    time.sleep(5)\n",
    "            except:\n",
    "                pass \n",
    "            pass\n",
    "    print (f\"--{header} 종료!!--\")\n",
    "    ## chapter 끝나고 뒤로가기 하지 않고, 바로 다음 chapter로 바로 이동!!\n",
    "\n",
    "print (\"----끝----\")"
   ]
  },
  {
   "cell_type": "code",
   "execution_count": null,
   "id": "d33e0761",
   "metadata": {},
   "outputs": [],
   "source": []
  },
  {
   "cell_type": "code",
   "execution_count": null,
   "id": "ff97b221",
   "metadata": {},
   "outputs": [],
   "source": []
  },
  {
   "cell_type": "code",
   "execution_count": null,
   "id": "71e53464",
   "metadata": {},
   "outputs": [],
   "source": []
  },
  {
   "cell_type": "code",
   "execution_count": null,
   "id": "ded8d9b2",
   "metadata": {},
   "outputs": [],
   "source": []
  },
  {
   "cell_type": "code",
   "execution_count": null,
   "id": "75bba6b2",
   "metadata": {},
   "outputs": [],
   "source": []
  },
  {
   "cell_type": "code",
   "execution_count": null,
   "id": "48521a4c",
   "metadata": {},
   "outputs": [],
   "source": []
  }
 ],
 "metadata": {
  "kernelspec": {
   "display_name": "Python 3 (ipykernel)",
   "language": "python",
   "name": "python3"
  },
  "language_info": {
   "codemirror_mode": {
    "name": "ipython",
    "version": 3
   },
   "file_extension": ".py",
   "mimetype": "text/x-python",
   "name": "python",
   "nbconvert_exporter": "python",
   "pygments_lexer": "ipython3",
   "version": "3.9.12"
  },
  "toc": {
   "base_numbering": 1,
   "nav_menu": {},
   "number_sections": true,
   "sideBar": true,
   "skip_h1_title": false,
   "title_cell": "Table of Contents",
   "title_sidebar": "Contents",
   "toc_cell": false,
   "toc_position": {},
   "toc_section_display": true,
   "toc_window_display": false
  }
 },
 "nbformat": 4,
 "nbformat_minor": 5
}
