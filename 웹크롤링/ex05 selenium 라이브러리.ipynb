{
 "cells": [
  {
   "cell_type": "markdown",
   "id": "ee3fb91a",
   "metadata": {},
   "source": [
    "# selenium 라이브러리\n",
    "- 웹 브라우저를 자동으로 제어하기 위한 라이브러리\n",
    "- 반드시 한번 설치가 필요!\n",
    "- webdriver: 브라우저의 역활\n",
    "- keys: 컴퓨터용 키보드 역활"
   ]
  },
  {
   "cell_type": "code",
   "execution_count": 1,
   "id": "51f8e04d",
   "metadata": {},
   "outputs": [
    {
     "name": "stdout",
     "output_type": "stream",
     "text": [
      "Collecting selenium\n",
      "  Downloading selenium-4.3.0-py3-none-any.whl (981 kB)\n",
      "Collecting trio-websocket~=0.9\n",
      "  Downloading trio_websocket-0.9.2-py3-none-any.whl (16 kB)\n",
      "Collecting trio~=0.17\n",
      "  Downloading trio-0.21.0-py3-none-any.whl (358 kB)\n",
      "Requirement already satisfied: urllib3[secure,socks]~=1.26 in c:\\users\\ai\\anaconda3\\lib\\site-packages (from selenium) (1.26.9)\n",
      "Requirement already satisfied: sniffio in c:\\users\\ai\\anaconda3\\lib\\site-packages (from trio~=0.17->selenium) (1.2.0)\n",
      "Requirement already satisfied: attrs>=19.2.0 in c:\\users\\ai\\anaconda3\\lib\\site-packages (from trio~=0.17->selenium) (21.4.0)\n",
      "Collecting async-generator>=1.9\n",
      "  Downloading async_generator-1.10-py3-none-any.whl (18 kB)\n",
      "Requirement already satisfied: sortedcontainers in c:\\users\\ai\\anaconda3\\lib\\site-packages (from trio~=0.17->selenium) (2.4.0)\n",
      "Requirement already satisfied: idna in c:\\users\\ai\\anaconda3\\lib\\site-packages (from trio~=0.17->selenium) (3.3)\n",
      "Requirement already satisfied: cffi>=1.14 in c:\\users\\ai\\anaconda3\\lib\\site-packages (from trio~=0.17->selenium) (1.15.0)\n",
      "Collecting outcome\n",
      "  Downloading outcome-1.2.0-py2.py3-none-any.whl (9.7 kB)\n",
      "Requirement already satisfied: pycparser in c:\\users\\ai\\anaconda3\\lib\\site-packages (from cffi>=1.14->trio~=0.17->selenium) (2.21)\n",
      "Collecting wsproto>=0.14\n",
      "  Downloading wsproto-1.1.0-py3-none-any.whl (24 kB)\n",
      "Requirement already satisfied: PySocks!=1.5.7,<2.0,>=1.5.6 in c:\\users\\ai\\anaconda3\\lib\\site-packages (from urllib3[secure,socks]~=1.26->selenium) (1.7.1)\n",
      "Requirement already satisfied: cryptography>=1.3.4 in c:\\users\\ai\\anaconda3\\lib\\site-packages (from urllib3[secure,socks]~=1.26->selenium) (3.4.8)\n",
      "Requirement already satisfied: certifi in c:\\users\\ai\\anaconda3\\lib\\site-packages (from urllib3[secure,socks]~=1.26->selenium) (2021.10.8)\n",
      "Requirement already satisfied: pyOpenSSL>=0.14 in c:\\users\\ai\\anaconda3\\lib\\site-packages (from urllib3[secure,socks]~=1.26->selenium) (21.0.0)\n",
      "Requirement already satisfied: six>=1.5.2 in c:\\users\\ai\\anaconda3\\lib\\site-packages (from pyOpenSSL>=0.14->urllib3[secure,socks]~=1.26->selenium) (1.16.0)\n",
      "Collecting h11<1,>=0.9.0\n",
      "  Downloading h11-0.13.0-py3-none-any.whl (58 kB)\n",
      "Installing collected packages: outcome, h11, async-generator, wsproto, trio, trio-websocket, selenium\n",
      "Successfully installed async-generator-1.10 h11-0.13.0 outcome-1.2.0 selenium-4.3.0 trio-0.21.0 trio-websocket-0.9.2 wsproto-1.1.0\n"
     ]
    }
   ],
   "source": [
    "!pip install selenium"
   ]
  },
  {
   "cell_type": "code",
   "execution_count": 2,
   "id": "02e950fa",
   "metadata": {},
   "outputs": [],
   "source": [
    "#webdriver는 브라우저의 역활을 해줌\n",
    "from selenium import webdriver as wb"
   ]
  },
  {
   "cell_type": "code",
   "execution_count": 4,
   "id": "0274f3ab",
   "metadata": {},
   "outputs": [],
   "source": [
    "#keys는 키보드 역활을 해줌 \n",
    "from selenium.webdriver.common.keys import Keys"
   ]
  },
  {
   "cell_type": "code",
   "execution_count": 16,
   "id": "89213943",
   "metadata": {},
   "outputs": [],
   "source": [
    "#BY를 임포트 해야한다\n",
    "from selenium.webdriver.common.by import By"
   ]
  },
  {
   "cell_type": "code",
   "execution_count": 5,
   "id": "f001776f",
   "metadata": {},
   "outputs": [],
   "source": [
    "# 크롬을 실행하기 위해서는 크롬드라이버를 설치\n",
    "#사용자가 사용하는 크롬과 같은 버전을 설치 \n",
    "#브라우저가 업데이트되면 크롬 드라이버도 업데이트 \n",
    "#작업중인 파일과 크롬드라이버를 같은 경로에 배치"
   ]
  },
  {
   "cell_type": "code",
   "execution_count": 39,
   "id": "f1829e0b",
   "metadata": {},
   "outputs": [],
   "source": [
    "#크롬창을 시작\n",
    "#웹드라이버야 크롬 좀 실행 시켜줘~\n",
    "#wb.Chrome(\"크롬드라이버 경로/chromedriver.exe까지\")\n",
    "#같은 경로에 있다면 경로를 생략이 가능\n",
    "driver=wb.Chrome()\n",
    "driver.get(\"http://www.naver.com\")"
   ]
  },
  {
   "cell_type": "code",
   "execution_count": 38,
   "id": "44ba97ba",
   "metadata": {},
   "outputs": [],
   "source": [
    "#.get(\"url\")= 페이지 정보를 요청\n",
    "driver.get(\"http://www.google.com\")"
   ]
  },
  {
   "cell_type": "code",
   "execution_count": 40,
   "id": "aa3f22bd",
   "metadata": {},
   "outputs": [],
   "source": [
    "#검색창을 찾아오라고 명령! \n",
    "# 아이디가 query요소좀 찾아와줘\n",
    "\n",
    "search=driver.find_element(By.ID,\"query\")"
   ]
  },
  {
   "cell_type": "code",
   "execution_count": 41,
   "id": "43679b1f",
   "metadata": {},
   "outputs": [],
   "source": [
    "# send_keys(\"전달값\")= 값을 전달하는 명령\n",
    "search.send_keys(\"광주날씨\")"
   ]
  },
  {
   "cell_type": "code",
   "execution_count": 42,
   "id": "27d0a906",
   "metadata": {},
   "outputs": [],
   "source": [
    "#enter 키 입력\n",
    "search.send_keys(Keys.ENTER)"
   ]
  },
  {
   "cell_type": "code",
   "execution_count": 43,
   "id": "087f6c89",
   "metadata": {},
   "outputs": [],
   "source": [
    "#페이지 뒤로가기\n",
    "\n",
    "driver.back()"
   ]
  },
  {
   "cell_type": "code",
   "execution_count": 27,
   "id": "1b8635c1",
   "metadata": {},
   "outputs": [
    {
     "ename": "StaleElementReferenceException",
     "evalue": "Message: stale element reference: element is not attached to the page document\n  (Session info: chrome=103.0.5060.114)\nStacktrace:\nBacktrace:\n\tOrdinal0 [0x00406463+2188387]\n\tOrdinal0 [0x0039E461+1762401]\n\tOrdinal0 [0x002B3D78+802168]\n\tOrdinal0 [0x002B6754+812884]\n\tOrdinal0 [0x002B6612+812562]\n\tOrdinal0 [0x002B68A0+813216]\n\tOrdinal0 [0x002E2346+992070]\n\tOrdinal0 [0x002E2424+992292]\n\tOrdinal0 [0x002DACA9+961705]\n\tOrdinal0 [0x002FC7DC+1099740]\n\tOrdinal0 [0x002D7FF4+950260]\n\tOrdinal0 [0x002FC9F4+1100276]\n\tOrdinal0 [0x0030CC22+1166370]\n\tOrdinal0 [0x002FC5F6+1099254]\n\tOrdinal0 [0x002D6BE0+945120]\n\tOrdinal0 [0x002D7AD6+948950]\n\tGetHandleVerifier [0x006A71F2+2712546]\n\tGetHandleVerifier [0x0069886D+2652765]\n\tGetHandleVerifier [0x0049002A+520730]\n\tGetHandleVerifier [0x0048EE06+516086]\n\tOrdinal0 [0x003A468B+1787531]\n\tOrdinal0 [0x003A8E88+1805960]\n\tOrdinal0 [0x003A8F75+1806197]\n\tOrdinal0 [0x003B1DF1+1842673]\n\tBaseThreadInitThunk [0x75506739+25]\n\tRtlGetFullPathName_UEx [0x77628FEF+1215]\n\tRtlGetFullPathName_UEx [0x77628FBD+1165]\n",
     "output_type": "error",
     "traceback": [
      "\u001b[1;31m---------------------------------------------------------------------------\u001b[0m",
      "\u001b[1;31mStaleElementReferenceException\u001b[0m            Traceback (most recent call last)",
      "Input \u001b[1;32mIn [27]\u001b[0m, in \u001b[0;36m<cell line: 1>\u001b[1;34m()\u001b[0m\n\u001b[1;32m----> 1\u001b[0m \u001b[43msearch\u001b[49m\u001b[38;5;241;43m.\u001b[39;49m\u001b[43msend_keys\u001b[49m\u001b[43m(\u001b[49m\u001b[38;5;124;43m\"\u001b[39;49m\u001b[38;5;124;43m서울날씨\u001b[39;49m\u001b[38;5;124;43m\"\u001b[39;49m\u001b[43m)\u001b[49m\n",
      "File \u001b[1;32m~\\Anaconda3\\lib\\site-packages\\selenium\\webdriver\\remote\\webelement.py:223\u001b[0m, in \u001b[0;36mWebElement.send_keys\u001b[1;34m(self, *value)\u001b[0m\n\u001b[0;32m    220\u001b[0m             remote_files\u001b[38;5;241m.\u001b[39mappend(\u001b[38;5;28mself\u001b[39m\u001b[38;5;241m.\u001b[39m_upload(file))\n\u001b[0;32m    221\u001b[0m         value \u001b[38;5;241m=\u001b[39m \u001b[38;5;124m'\u001b[39m\u001b[38;5;130;01m\\n\u001b[39;00m\u001b[38;5;124m'\u001b[39m\u001b[38;5;241m.\u001b[39mjoin(remote_files)\n\u001b[1;32m--> 223\u001b[0m \u001b[38;5;28;43mself\u001b[39;49m\u001b[38;5;241;43m.\u001b[39;49m\u001b[43m_execute\u001b[49m\u001b[43m(\u001b[49m\u001b[43mCommand\u001b[49m\u001b[38;5;241;43m.\u001b[39;49m\u001b[43mSEND_KEYS_TO_ELEMENT\u001b[49m\u001b[43m,\u001b[49m\n\u001b[0;32m    224\u001b[0m \u001b[43m              \u001b[49m\u001b[43m{\u001b[49m\u001b[38;5;124;43m'\u001b[39;49m\u001b[38;5;124;43mtext\u001b[39;49m\u001b[38;5;124;43m'\u001b[39;49m\u001b[43m:\u001b[49m\u001b[43m \u001b[49m\u001b[38;5;124;43m\"\u001b[39;49m\u001b[38;5;124;43m\"\u001b[39;49m\u001b[38;5;241;43m.\u001b[39;49m\u001b[43mjoin\u001b[49m\u001b[43m(\u001b[49m\u001b[43mkeys_to_typing\u001b[49m\u001b[43m(\u001b[49m\u001b[43mvalue\u001b[49m\u001b[43m)\u001b[49m\u001b[43m)\u001b[49m\u001b[43m,\u001b[49m\n\u001b[0;32m    225\u001b[0m \u001b[43m               \u001b[49m\u001b[38;5;124;43m'\u001b[39;49m\u001b[38;5;124;43mvalue\u001b[39;49m\u001b[38;5;124;43m'\u001b[39;49m\u001b[43m:\u001b[49m\u001b[43m \u001b[49m\u001b[43mkeys_to_typing\u001b[49m\u001b[43m(\u001b[49m\u001b[43mvalue\u001b[49m\u001b[43m)\u001b[49m\u001b[43m}\u001b[49m\u001b[43m)\u001b[49m\n",
      "File \u001b[1;32m~\\Anaconda3\\lib\\site-packages\\selenium\\webdriver\\remote\\webelement.py:396\u001b[0m, in \u001b[0;36mWebElement._execute\u001b[1;34m(self, command, params)\u001b[0m\n\u001b[0;32m    394\u001b[0m     params \u001b[38;5;241m=\u001b[39m {}\n\u001b[0;32m    395\u001b[0m params[\u001b[38;5;124m'\u001b[39m\u001b[38;5;124mid\u001b[39m\u001b[38;5;124m'\u001b[39m] \u001b[38;5;241m=\u001b[39m \u001b[38;5;28mself\u001b[39m\u001b[38;5;241m.\u001b[39m_id\n\u001b[1;32m--> 396\u001b[0m \u001b[38;5;28;01mreturn\u001b[39;00m \u001b[38;5;28;43mself\u001b[39;49m\u001b[38;5;241;43m.\u001b[39;49m\u001b[43m_parent\u001b[49m\u001b[38;5;241;43m.\u001b[39;49m\u001b[43mexecute\u001b[49m\u001b[43m(\u001b[49m\u001b[43mcommand\u001b[49m\u001b[43m,\u001b[49m\u001b[43m \u001b[49m\u001b[43mparams\u001b[49m\u001b[43m)\u001b[49m\n",
      "File \u001b[1;32m~\\Anaconda3\\lib\\site-packages\\selenium\\webdriver\\remote\\webdriver.py:435\u001b[0m, in \u001b[0;36mWebDriver.execute\u001b[1;34m(self, driver_command, params)\u001b[0m\n\u001b[0;32m    433\u001b[0m response \u001b[38;5;241m=\u001b[39m \u001b[38;5;28mself\u001b[39m\u001b[38;5;241m.\u001b[39mcommand_executor\u001b[38;5;241m.\u001b[39mexecute(driver_command, params)\n\u001b[0;32m    434\u001b[0m \u001b[38;5;28;01mif\u001b[39;00m response:\n\u001b[1;32m--> 435\u001b[0m     \u001b[38;5;28;43mself\u001b[39;49m\u001b[38;5;241;43m.\u001b[39;49m\u001b[43merror_handler\u001b[49m\u001b[38;5;241;43m.\u001b[39;49m\u001b[43mcheck_response\u001b[49m\u001b[43m(\u001b[49m\u001b[43mresponse\u001b[49m\u001b[43m)\u001b[49m\n\u001b[0;32m    436\u001b[0m     response[\u001b[38;5;124m'\u001b[39m\u001b[38;5;124mvalue\u001b[39m\u001b[38;5;124m'\u001b[39m] \u001b[38;5;241m=\u001b[39m \u001b[38;5;28mself\u001b[39m\u001b[38;5;241m.\u001b[39m_unwrap_value(\n\u001b[0;32m    437\u001b[0m         response\u001b[38;5;241m.\u001b[39mget(\u001b[38;5;124m'\u001b[39m\u001b[38;5;124mvalue\u001b[39m\u001b[38;5;124m'\u001b[39m, \u001b[38;5;28;01mNone\u001b[39;00m))\n\u001b[0;32m    438\u001b[0m     \u001b[38;5;28;01mreturn\u001b[39;00m response\n",
      "File \u001b[1;32m~\\Anaconda3\\lib\\site-packages\\selenium\\webdriver\\remote\\errorhandler.py:247\u001b[0m, in \u001b[0;36mErrorHandler.check_response\u001b[1;34m(self, response)\u001b[0m\n\u001b[0;32m    245\u001b[0m         alert_text \u001b[38;5;241m=\u001b[39m value[\u001b[38;5;124m'\u001b[39m\u001b[38;5;124malert\u001b[39m\u001b[38;5;124m'\u001b[39m]\u001b[38;5;241m.\u001b[39mget(\u001b[38;5;124m'\u001b[39m\u001b[38;5;124mtext\u001b[39m\u001b[38;5;124m'\u001b[39m)\n\u001b[0;32m    246\u001b[0m     \u001b[38;5;28;01mraise\u001b[39;00m exception_class(message, screen, stacktrace, alert_text)  \u001b[38;5;66;03m# type: ignore[call-arg]  # mypy is not smart enough here\u001b[39;00m\n\u001b[1;32m--> 247\u001b[0m \u001b[38;5;28;01mraise\u001b[39;00m exception_class(message, screen, stacktrace)\n",
      "\u001b[1;31mStaleElementReferenceException\u001b[0m: Message: stale element reference: element is not attached to the page document\n  (Session info: chrome=103.0.5060.114)\nStacktrace:\nBacktrace:\n\tOrdinal0 [0x00406463+2188387]\n\tOrdinal0 [0x0039E461+1762401]\n\tOrdinal0 [0x002B3D78+802168]\n\tOrdinal0 [0x002B6754+812884]\n\tOrdinal0 [0x002B6612+812562]\n\tOrdinal0 [0x002B68A0+813216]\n\tOrdinal0 [0x002E2346+992070]\n\tOrdinal0 [0x002E2424+992292]\n\tOrdinal0 [0x002DACA9+961705]\n\tOrdinal0 [0x002FC7DC+1099740]\n\tOrdinal0 [0x002D7FF4+950260]\n\tOrdinal0 [0x002FC9F4+1100276]\n\tOrdinal0 [0x0030CC22+1166370]\n\tOrdinal0 [0x002FC5F6+1099254]\n\tOrdinal0 [0x002D6BE0+945120]\n\tOrdinal0 [0x002D7AD6+948950]\n\tGetHandleVerifier [0x006A71F2+2712546]\n\tGetHandleVerifier [0x0069886D+2652765]\n\tGetHandleVerifier [0x0049002A+520730]\n\tGetHandleVerifier [0x0048EE06+516086]\n\tOrdinal0 [0x003A468B+1787531]\n\tOrdinal0 [0x003A8E88+1805960]\n\tOrdinal0 [0x003A8F75+1806197]\n\tOrdinal0 [0x003B1DF1+1842673]\n\tBaseThreadInitThunk [0x75506739+25]\n\tRtlGetFullPathName_UEx [0x77628FEF+1215]\n\tRtlGetFullPathName_UEx [0x77628FBD+1165]\n"
     ]
    }
   ],
   "source": [
    "#오류가 나는 이유 \n",
    "#위에서 뒤로가기를 했으므로 페이지가 변함\n",
    "#서치창을 다시 찾아야 한다. \n",
    "#셀레니음은 창이 바뀌면 변수가 초기화 됨\n",
    "#화면이 바뀌면 요소를 매번 새로 탐색\n",
    "search.send_keys(\"서울날씨\")"
   ]
  },
  {
   "cell_type": "code",
   "execution_count": 44,
   "id": "fe38c94e",
   "metadata": {},
   "outputs": [],
   "source": [
    "search=driver.find_element(By.ID,\"query\")\n",
    "search.send_keys(\"서울날씨\")\n"
   ]
  },
  {
   "cell_type": "code",
   "execution_count": 45,
   "id": "0b71df72",
   "metadata": {},
   "outputs": [],
   "source": [
    "#요소를 클릭하는 메소드 click()\n",
    "btn=driver.find_element(By.ID,\"search_btn\")\n",
    "btn.click()"
   ]
  },
  {
   "cell_type": "code",
   "execution_count": 46,
   "id": "97cc00c4",
   "metadata": {},
   "outputs": [],
   "source": [
    "# 창을 종료할땐 드라이버에게 명령을 준다. \n",
    "driver.close()"
   ]
  },
  {
   "cell_type": "code",
   "execution_count": null,
   "id": "52b2cfdb",
   "metadata": {},
   "outputs": [],
   "source": []
  }
 ],
 "metadata": {
  "kernelspec": {
   "display_name": "Python 3 (ipykernel)",
   "language": "python",
   "name": "python3"
  },
  "language_info": {
   "codemirror_mode": {
    "name": "ipython",
    "version": 3
   },
   "file_extension": ".py",
   "mimetype": "text/x-python",
   "name": "python",
   "nbconvert_exporter": "python",
   "pygments_lexer": "ipython3",
   "version": "3.9.12"
  },
  "toc": {
   "base_numbering": 1,
   "nav_menu": {},
   "number_sections": true,
   "sideBar": true,
   "skip_h1_title": false,
   "title_cell": "Table of Contents",
   "title_sidebar": "Contents",
   "toc_cell": false,
   "toc_position": {},
   "toc_section_display": true,
   "toc_window_display": false
  }
 },
 "nbformat": 4,
 "nbformat_minor": 5
}
